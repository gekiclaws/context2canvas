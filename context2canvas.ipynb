{
 "cells": [
  {
   "cell_type": "markdown",
   "id": "6ed42f10-f71b-4a43-bc09-ca1354f88d20",
   "metadata": {},
   "source": [
    "## Context2Canvas - AI ggplot2 Code Generation\n",
    "\n",
    "Brief Elevator Pitch of our project "
   ]
  },
  {
   "cell_type": "markdown",
   "id": "ffa12a04-3acf-43f0-b984-d99790d4afff",
   "metadata": {},
   "source": [
    "## Setup the functions for prompting"
   ]
  },
  {
   "cell_type": "code",
   "execution_count": 1,
   "id": "f04c17cf-85f5-4920-bea1-db9e480a4e57",
   "metadata": {},
   "outputs": [],
   "source": [
    "from openai import OpenAI\n",
    "client = OpenAI()\n",
    "\n",
    "def prompt_model(prompt):\n",
    "    completion = client.chat.completions.create(\n",
    "        model=\"gpt-4o-mini\",\n",
    "        store=True,\n",
    "        messages=[\n",
    "            {\"role\": \"user\", 'content': prompt}\n",
    "        ]\n",
    "    )\n",
    "    return completion.choices[0].message.content"
   ]
  },
  {
   "cell_type": "markdown",
   "id": "1063fc8f-0d55-499d-a112-2d9752b77821",
   "metadata": {},
   "source": [
    "## Chunk data and generate indices (setting up vector database)\n",
    "\n",
    "User queries will be matched to indexes that best approximate the text chunks used to summarize an answer. For this assignment, you may chunk the text and then prompt the model to generate questions that are answerable by the text. The generated questions can then be used as the \"documents\" stored in the vector database."
   ]
  },
  {
   "cell_type": "code",
   "execution_count": null,
   "id": "54b74904",
   "metadata": {},
   "outputs": [
    {
     "name": "stdout",
     "output_type": "stream",
     "text": [
      "{'models': [{'name': 'bars', 'labels': ['Coral', 'Medium Purple', 'Purple', 'Dark Turquoise', 'Light Green', 'Orange Red', 'Saddle Brown'], 'width': 0.5, 'colors': ['#FF7F50', '#9370DB', '#A020F0', '#00CED1', '#90EE90', '#FF4500', '#8B4513'], 'bboxes': [{'y': 42, 'x': 81, 'w': 49, 'h': 217}, {'y': 63, 'x': 180, 'w': 49, 'h': 196}, {'y': 84, 'x': 279, 'w': 49, 'h': 175}, {'y': 105, 'x': 377, 'w': 49, 'h': 154}, {'y': 126, 'x': 476, 'w': 49, 'h': 133}, {'y': 147, 'x': 574, 'w': 49, 'h': 111}, {'y': 169, 'x': 673, 'w': 49, 'h': 90}], 'y': [99.0, 89.36864203865082, 79.73728407730162, 70.10592611595243, 60.47456815460325, 50.84321019325406, 41.21185223190487], 'x': ['Coral', 'Medium Purple', 'Purple', 'Dark Turquoise', 'Light Green', 'Orange Red', 'Saddle Brown']}], 'type': 'vbar_categorical', 'general_figure_info': {'title': {'text': 'title', 'bbox': {'y': 9, 'x': 56.77843750000001, 'w': 50.234375, 'h': 16}}, 'x_axis': {'minor_ticks': {'values': [], 'bboxes': []}, 'major_labels': {'values': ['Coral', 'Medium Purple', 'Purple', 'Dark Turquoise', 'Light Green', 'Orange Red', 'Saddle Brown', 'Coral', 'Medium Purple', 'Purple', 'Dark Turquoise', 'Light Green', 'Orange Red', 'Saddle Brown'], 'bboxes': [{'y': 281, 'x': 99, 'w': 14, 'h': 30.328125}, {'y': 281, 'x': 198, 'w': 14, 'h': 86.046875}, {'y': 281, 'x': 296, 'w': 14, 'h': 36.765625}, {'y': 281, 'x': 395, 'w': 14, 'h': 86.78125}, {'y': 281, 'x': 493, 'w': 14, 'h': 66.921875}, {'y': 281, 'x': 592, 'w': 14, 'h': 66.71875}, {'y': 281, 'x': 691, 'w': 14, 'h': 78.0625}, {'y': 281, 'x': 99, 'w': 14, 'h': 30.328125}, {'y': 281, 'x': 198, 'w': 14, 'h': 86.046875}, {'y': 281, 'x': 296, 'w': 14, 'h': 36.765625}, {'y': 281, 'x': 395, 'w': 14, 'h': 86.78125}, {'y': 281, 'x': 493, 'w': 14, 'h': 66.921875}, {'y': 281, 'x': 592, 'w': 14, 'h': 66.71875}, {'y': 281, 'x': 691, 'w': 14, 'h': 78.0625}]}, 'major_ticks': {'values': ['Coral', 'Medium Purple', 'Purple', 'Dark Turquoise', 'Light Green', 'Orange Red', 'Saddle Brown', 'Coral', 'Medium Purple', 'Purple', 'Dark Turquoise', 'Light Green', 'Orange Red', 'Saddle Brown'], 'bboxes': [{'y': 268, 'x': 102, 'w': 8, 'h': 8}, {'y': 268, 'x': 201, 'w': 8, 'h': 8}, {'y': 268, 'x': 299, 'w': 8, 'h': 8}, {'y': 268, 'x': 398, 'w': 8, 'h': 8}, {'y': 268, 'x': 496, 'w': 8, 'h': 8}, {'y': 268, 'x': 595, 'w': 8, 'h': 8}, {'y': 268, 'x': 694, 'w': 8, 'h': 8}, {'y': 268, 'x': 102, 'w': 8, 'h': 8}, {'y': 268, 'x': 201, 'w': 8, 'h': 8}, {'y': 268, 'x': 299, 'w': 8, 'h': 8}, {'y': 268, 'x': 398, 'w': 8, 'h': 8}, {'y': 268, 'x': 496, 'w': 8, 'h': 8}, {'y': 268, 'x': 595, 'w': 8, 'h': 8}, {'y': 268, 'x': 694, 'w': 8, 'h': 8}]}, 'rule': {'bbox': {'y': 268, 'h': 4, 'w': 690, 'x': 57}}, 'label': {'text': 'xaxis_label', 'bbox': {'y': 381.27, 'x': 366, 'w': 71.78125, 'h': 16}}}, 'figure_info': {'bbox': {'bbox': {'y': 0, 'x': 0, 'w': 752, 'h': 400}}}, 'y_axis': {'minor_ticks': {'values': [-4, 0, 4, 8, 12, 16, 20, 24, 28, 32, 36, 40, 44, 48, 52, 56, 60, 64, 68, 72, 76, 80, 84, 88, 92, 96, 100, -4, 0, 4, 8, 12, 16, 20, 24, 28, 32, 36, 40, 44, 48, 52, 56, 60, 64, 68, 72, 76, 80, 84, 88, 92, 96, 100], 'bboxes': [{'y': 266, 'x': 53, 'w': 4, 'h': 4}, {'y': 257, 'x': 53, 'w': 4, 'h': 4}, {'y': 248, 'x': 53, 'w': 4, 'h': 4}, {'y': 239, 'x': 53, 'w': 4, 'h': 4}, {'y': 231, 'x': 53, 'w': 4, 'h': 4}, {'y': 222, 'x': 53, 'w': 4, 'h': 4}, {'y': 213, 'x': 53, 'w': 4, 'h': 4}, {'y': 204, 'x': 53, 'w': 4, 'h': 4}, {'y': 196, 'x': 53, 'w': 4, 'h': 4}, {'y': 187, 'x': 53, 'w': 4, 'h': 4}, {'y': 178, 'x': 53, 'w': 4, 'h': 4}, {'y': 169, 'x': 53, 'w': 4, 'h': 4}, {'y': 160, 'x': 53, 'w': 4, 'h': 4}, {'y': 152, 'x': 53, 'w': 4, 'h': 4}, {'y': 143, 'x': 53, 'w': 4, 'h': 4}, {'y': 134, 'x': 53, 'w': 4, 'h': 4}, {'y': 125, 'x': 53, 'w': 4, 'h': 4}, {'y': 117, 'x': 53, 'w': 4, 'h': 4}, {'y': 108, 'x': 53, 'w': 4, 'h': 4}, {'y': 99, 'x': 53, 'w': 4, 'h': 4}, {'y': 90, 'x': 53, 'w': 4, 'h': 4}, {'y': 82, 'x': 53, 'w': 4, 'h': 4}, {'y': 73, 'x': 53, 'w': 4, 'h': 4}, {'y': 64, 'x': 53, 'w': 4, 'h': 4}, {'y': 55, 'x': 53, 'w': 4, 'h': 4}, {'y': 46, 'x': 53, 'w': 4, 'h': 4}, {'y': 38, 'x': 53, 'w': 4, 'h': 4}, {'y': 266, 'x': 53, 'w': 4, 'h': 4}, {'y': 257, 'x': 53, 'w': 4, 'h': 4}, {'y': 248, 'x': 53, 'w': 4, 'h': 4}, {'y': 239, 'x': 53, 'w': 4, 'h': 4}, {'y': 231, 'x': 53, 'w': 4, 'h': 4}, {'y': 222, 'x': 53, 'w': 4, 'h': 4}, {'y': 213, 'x': 53, 'w': 4, 'h': 4}, {'y': 204, 'x': 53, 'w': 4, 'h': 4}, {'y': 196, 'x': 53, 'w': 4, 'h': 4}, {'y': 187, 'x': 53, 'w': 4, 'h': 4}, {'y': 178, 'x': 53, 'w': 4, 'h': 4}, {'y': 169, 'x': 53, 'w': 4, 'h': 4}, {'y': 160, 'x': 53, 'w': 4, 'h': 4}, {'y': 152, 'x': 53, 'w': 4, 'h': 4}, {'y': 143, 'x': 53, 'w': 4, 'h': 4}, {'y': 134, 'x': 53, 'w': 4, 'h': 4}, {'y': 125, 'x': 53, 'w': 4, 'h': 4}, {'y': 117, 'x': 53, 'w': 4, 'h': 4}, {'y': 108, 'x': 53, 'w': 4, 'h': 4}, {'y': 99, 'x': 53, 'w': 4, 'h': 4}, {'y': 90, 'x': 53, 'w': 4, 'h': 4}, {'y': 82, 'x': 53, 'w': 4, 'h': 4}, {'y': 73, 'x': 53, 'w': 4, 'h': 4}, {'y': 64, 'x': 53, 'w': 4, 'h': 4}, {'y': 55, 'x': 53, 'w': 4, 'h': 4}, {'y': 46, 'x': 53, 'w': 4, 'h': 4}, {'y': 38, 'x': 53, 'w': 4, 'h': 4}]}, 'major_labels': {'values': ['0', '20', '40', '60', '80', '100', '0', '20', '40', '60', '80', '100'], 'bboxes': [{'y': 252, 'x': 39, 'w': 6.984375, 'h': 14}, {'y': 208, 'x': 32, 'w': 13.96875, 'h': 14}, {'y': 164, 'x': 32, 'w': 13.96875, 'h': 14}, {'y': 120, 'x': 32, 'w': 13.96875, 'h': 14}, {'y': 77, 'x': 32, 'w': 13.96875, 'h': 14}, {'y': 33, 'x': 25, 'w': 20.953125, 'h': 14}, {'y': 252, 'x': 39, 'w': 6.984375, 'h': 14}, {'y': 208, 'x': 32, 'w': 13.96875, 'h': 14}, {'y': 164, 'x': 32, 'w': 13.96875, 'h': 14}, {'y': 120, 'x': 32, 'w': 13.96875, 'h': 14}, {'y': 77, 'x': 32, 'w': 13.96875, 'h': 14}, {'y': 33, 'x': 25, 'w': 20.953125, 'h': 14}]}, 'major_ticks': {'values': [0, 20, 40, 60, 80, 100, 0, 20, 40, 60, 80, 100], 'bboxes': [{'y': 255, 'x': 51, 'w': 8, 'h': 8}, {'y': 211, 'x': 51, 'w': 8, 'h': 8}, {'y': 167, 'x': 51, 'w': 8, 'h': 8}, {'y': 123, 'x': 51, 'w': 8, 'h': 8}, {'y': 80, 'x': 51, 'w': 8, 'h': 8}, {'y': 36, 'x': 51, 'w': 8, 'h': 8}, {'y': 255, 'x': 51, 'w': 8, 'h': 8}, {'y': 211, 'x': 51, 'w': 8, 'h': 8}, {'y': 167, 'x': 51, 'w': 8, 'h': 8}, {'y': 123, 'x': 51, 'w': 8, 'h': 8}, {'y': 80, 'x': 51, 'w': 8, 'h': 8}, {'y': 36, 'x': 51, 'w': 8, 'h': 8}]}, 'rule': {'bbox': {'y': 31, 'x': 55, 'w': 4, 'h': 239}}, 'label': {'text': 'yaxis_label', 'bbox': {'y': 115, 'x': 6, 'w': 16, 'h': 71.796875}}}, 'plot_info': {'bbox': {'y': 31, 'x': 55, 'w': 692, 'h': 241}}}, 'image_index': 1}\n"
     ]
    }
   ],
   "source": [
    "#Load the data\n",
    "\n",
    "import json\n",
    "with open('annotations.json', 'r') as f:\n",
    "    data = json.load(f)\n",
    "\n"
   ]
  },
  {
   "cell_type": "code",
   "execution_count": 6,
   "id": "6b60f00b-27e7-41c4-ba3b-89ddb9dc3ef4",
   "metadata": {},
   "outputs": [],
   "source": [
    "#import langchain chunking library\n",
    "from langchain_text_splitters import CharacterTextSplitter\n",
    "\n",
    "#from langchain_text_splitters import RecursiveCharacterTextSplitter \n",
    "#we can use better parsing techniques in a future update\n"
   ]
  },
  {
   "cell_type": "code",
   "execution_count": 7,
   "id": "90f66807",
   "metadata": {},
   "outputs": [],
   "source": [
    "#set up text splitter\n",
    "text_splitter = CharacterTextSplitter(\n",
    "    separator=\"\\n\",\n",
    "    chunk_size=2500,\n",
    "    chunk_overlap=100,\n",
    "    length_function=len,\n",
    "    is_separator_regex=False,\n",
    ")\n"
   ]
  },
  {
   "cell_type": "code",
   "execution_count": 33,
   "id": "d8304580",
   "metadata": {},
   "outputs": [
    {
     "name": "stdout",
     "output_type": "stream",
     "text": [
      "True\n"
     ]
    }
   ],
   "source": [
    "#chunk data\n",
    "ids = [str(record[\"image_index\"]) for record in data]\n",
    "annotations = [str(record[\"general_figure_info\"]) for record in data]\n",
    "types = [record[\"type\"] for record in data]\n",
    "\n",
    "print(len(annotations) == len(types) == len(ids))"
   ]
  },
  {
   "cell_type": "markdown",
   "id": "2ce91801-86ab-43ae-9ff1-1cd0891e82e5",
   "metadata": {},
   "source": [
    "## Build the vector database\n",
    "\n",
    "When building the vector database, be sure to maintain a mapping between the generated questions and the chunks that can be used later to retrieve the chunks from the most similar indices to the user query provided.\n",
    "\n",
    "You may also add the function to query the vector database that you will use later."
   ]
  },
  {
   "cell_type": "code",
   "execution_count": null,
   "id": "c65e598a-5463-4237-8de2-74a19981b4af",
   "metadata": {},
   "outputs": [],
   "source": [
    "#setting up the collection\n",
    "import chromadb\n",
    "chroma_client = chromadb.Client()\n",
    "collection = chroma_client.create_collection(name=\"c2c\")\n",
    "\n"
   ]
  },
  {
   "cell_type": "code",
   "execution_count": null,
   "id": "913aa98e",
   "metadata": {},
   "outputs": [
    {
     "ename": "ValueError",
     "evalue": "Expected metadata to be a dict or None, got str as metadata in add.",
     "output_type": "error",
     "traceback": [
      "\u001b[1;31m---------------------------------------------------------------------------\u001b[0m",
      "\u001b[1;31mValueError\u001b[0m                                Traceback (most recent call last)",
      "File \u001b[1;32mc:\\Users\\jack3\\AppData\\Local\\Programs\\Python\\Python310\\lib\\site-packages\\chromadb\\api\\models\\CollectionCommon.py:90\u001b[0m, in \u001b[0;36mvalidation_context.<locals>.decorator.<locals>.wrapper\u001b[1;34m(self, *args, **kwargs)\u001b[0m\n\u001b[0;32m     89\u001b[0m \u001b[38;5;28;01mtry\u001b[39;00m:\n\u001b[1;32m---> 90\u001b[0m     \u001b[38;5;28;01mreturn\u001b[39;00m func(\u001b[38;5;28mself\u001b[39m, \u001b[38;5;241m*\u001b[39margs, \u001b[38;5;241m*\u001b[39m\u001b[38;5;241m*\u001b[39mkwargs)\n\u001b[0;32m     91\u001b[0m \u001b[38;5;28;01mexcept\u001b[39;00m \u001b[38;5;167;01mException\u001b[39;00m \u001b[38;5;28;01mas\u001b[39;00m e:\n",
      "File \u001b[1;32mc:\\Users\\jack3\\AppData\\Local\\Programs\\Python\\Python310\\lib\\site-packages\\chromadb\\api\\models\\CollectionCommon.py:207\u001b[0m, in \u001b[0;36mCollectionCommon._validate_and_prepare_add_request\u001b[1;34m(self, ids, embeddings, metadatas, documents, images, uris)\u001b[0m\n\u001b[0;32m    206\u001b[0m \u001b[38;5;66;03m# Validate\u001b[39;00m\n\u001b[1;32m--> 207\u001b[0m \u001b[43mvalidate_insert_record_set\u001b[49m\u001b[43m(\u001b[49m\u001b[43mrecord_set\u001b[49m\u001b[38;5;241;43m=\u001b[39;49m\u001b[43madd_records\u001b[49m\u001b[43m)\u001b[49m\n\u001b[0;32m    208\u001b[0m validate_record_set_contains_any(record_set\u001b[38;5;241m=\u001b[39madd_records, contains_any\u001b[38;5;241m=\u001b[39m{\u001b[38;5;124m\"\u001b[39m\u001b[38;5;124mids\u001b[39m\u001b[38;5;124m\"\u001b[39m})\n",
      "File \u001b[1;32mc:\\Users\\jack3\\AppData\\Local\\Programs\\Python\\Python310\\lib\\site-packages\\chromadb\\api\\types.py:230\u001b[0m, in \u001b[0;36mvalidate_insert_record_set\u001b[1;34m(record_set)\u001b[0m\n\u001b[0;32m    229\u001b[0m \u001b[38;5;28;01mif\u001b[39;00m record_set[\u001b[38;5;124m\"\u001b[39m\u001b[38;5;124mmetadatas\u001b[39m\u001b[38;5;124m\"\u001b[39m] \u001b[38;5;129;01mis\u001b[39;00m \u001b[38;5;129;01mnot\u001b[39;00m \u001b[38;5;28;01mNone\u001b[39;00m:\n\u001b[1;32m--> 230\u001b[0m     \u001b[43mvalidate_metadatas\u001b[49m\u001b[43m(\u001b[49m\u001b[43mrecord_set\u001b[49m\u001b[43m[\u001b[49m\u001b[38;5;124;43m\"\u001b[39;49m\u001b[38;5;124;43mmetadatas\u001b[39;49m\u001b[38;5;124;43m\"\u001b[39;49m\u001b[43m]\u001b[49m\u001b[43m)\u001b[49m\n",
      "File \u001b[1;32mc:\\Users\\jack3\\AppData\\Local\\Programs\\Python\\Python310\\lib\\site-packages\\chromadb\\api\\types.py:592\u001b[0m, in \u001b[0;36mvalidate_metadatas\u001b[1;34m(metadatas)\u001b[0m\n\u001b[0;32m    591\u001b[0m \u001b[38;5;28;01mfor\u001b[39;00m metadata \u001b[38;5;129;01min\u001b[39;00m metadatas:\n\u001b[1;32m--> 592\u001b[0m     \u001b[43mvalidate_metadata\u001b[49m\u001b[43m(\u001b[49m\u001b[43mmetadata\u001b[49m\u001b[43m)\u001b[49m\n\u001b[0;32m    593\u001b[0m \u001b[38;5;28;01mreturn\u001b[39;00m metadatas\n",
      "File \u001b[1;32mc:\\Users\\jack3\\AppData\\Local\\Programs\\Python\\Python310\\lib\\site-packages\\chromadb\\api\\types.py:538\u001b[0m, in \u001b[0;36mvalidate_metadata\u001b[1;34m(metadata)\u001b[0m\n\u001b[0;32m    537\u001b[0m \u001b[38;5;28;01mif\u001b[39;00m \u001b[38;5;129;01mnot\u001b[39;00m \u001b[38;5;28misinstance\u001b[39m(metadata, \u001b[38;5;28mdict\u001b[39m) \u001b[38;5;129;01mand\u001b[39;00m metadata \u001b[38;5;129;01mis\u001b[39;00m \u001b[38;5;129;01mnot\u001b[39;00m \u001b[38;5;28;01mNone\u001b[39;00m:\n\u001b[1;32m--> 538\u001b[0m     \u001b[38;5;28;01mraise\u001b[39;00m \u001b[38;5;167;01mValueError\u001b[39;00m(\n\u001b[0;32m    539\u001b[0m         \u001b[38;5;124mf\u001b[39m\u001b[38;5;124m\"\u001b[39m\u001b[38;5;124mExpected metadata to be a dict or None, got \u001b[39m\u001b[38;5;132;01m{\u001b[39;00m\u001b[38;5;28mtype\u001b[39m(metadata)\u001b[38;5;241m.\u001b[39m\u001b[38;5;18m__name__\u001b[39m\u001b[38;5;132;01m}\u001b[39;00m\u001b[38;5;124m as metadata\u001b[39m\u001b[38;5;124m\"\u001b[39m\n\u001b[0;32m    540\u001b[0m     )\n\u001b[0;32m    541\u001b[0m \u001b[38;5;28;01mif\u001b[39;00m metadata \u001b[38;5;129;01mis\u001b[39;00m \u001b[38;5;28;01mNone\u001b[39;00m:\n",
      "\u001b[1;31mValueError\u001b[0m: Expected metadata to be a dict or None, got str as metadata",
      "\nDuring handling of the above exception, another exception occurred:\n",
      "\u001b[1;31mValueError\u001b[0m                                Traceback (most recent call last)",
      "Cell \u001b[1;32mIn[34], line 2\u001b[0m\n\u001b[0;32m      1\u001b[0m \u001b[38;5;66;03m#add data to collection\u001b[39;00m\n\u001b[1;32m----> 2\u001b[0m \u001b[43mcollection\u001b[49m\u001b[38;5;241;43m.\u001b[39;49m\u001b[43madd\u001b[49m\u001b[43m(\u001b[49m\n\u001b[0;32m      3\u001b[0m \u001b[43m    \u001b[49m\u001b[43mdocuments\u001b[49m\u001b[43m \u001b[49m\u001b[38;5;241;43m=\u001b[39;49m\u001b[43m \u001b[49m\u001b[43mannotations\u001b[49m\u001b[43m,\u001b[49m\n\u001b[0;32m      4\u001b[0m \u001b[43m    \u001b[49m\u001b[43mmetadatas\u001b[49m\u001b[43m \u001b[49m\u001b[38;5;241;43m=\u001b[39;49m\u001b[43m \u001b[49m\u001b[43mtypes\u001b[49m\u001b[43m,\u001b[49m\n\u001b[0;32m      5\u001b[0m \u001b[43m    \u001b[49m\u001b[43mids\u001b[49m\u001b[43m \u001b[49m\u001b[38;5;241;43m=\u001b[39;49m\u001b[43m \u001b[49m\u001b[43mids\u001b[49m\n\u001b[0;32m      6\u001b[0m \u001b[43m)\u001b[49m\n",
      "File \u001b[1;32mc:\\Users\\jack3\\AppData\\Local\\Programs\\Python\\Python310\\lib\\site-packages\\chromadb\\api\\models\\Collection.py:82\u001b[0m, in \u001b[0;36mCollection.add\u001b[1;34m(self, ids, embeddings, metadatas, documents, images, uris)\u001b[0m\n\u001b[0;32m     47\u001b[0m \u001b[38;5;28;01mdef\u001b[39;00m \u001b[38;5;21madd\u001b[39m(\n\u001b[0;32m     48\u001b[0m     \u001b[38;5;28mself\u001b[39m,\n\u001b[0;32m     49\u001b[0m     ids: OneOrMany[ID],\n\u001b[1;32m   (...)\u001b[0m\n\u001b[0;32m     59\u001b[0m     uris: Optional[OneOrMany[URI]] \u001b[38;5;241m=\u001b[39m \u001b[38;5;28;01mNone\u001b[39;00m,\n\u001b[0;32m     60\u001b[0m ) \u001b[38;5;241m-\u001b[39m\u001b[38;5;241m>\u001b[39m \u001b[38;5;28;01mNone\u001b[39;00m:\n\u001b[0;32m     61\u001b[0m \u001b[38;5;250m    \u001b[39m\u001b[38;5;124;03m\"\"\"Add embeddings to the data store.\u001b[39;00m\n\u001b[0;32m     62\u001b[0m \u001b[38;5;124;03m    Args:\u001b[39;00m\n\u001b[0;32m     63\u001b[0m \u001b[38;5;124;03m        ids: The ids of the embeddings you wish to add\u001b[39;00m\n\u001b[1;32m   (...)\u001b[0m\n\u001b[0;32m     79\u001b[0m \n\u001b[0;32m     80\u001b[0m \u001b[38;5;124;03m    \"\"\"\u001b[39;00m\n\u001b[1;32m---> 82\u001b[0m     add_request \u001b[38;5;241m=\u001b[39m \u001b[38;5;28;43mself\u001b[39;49m\u001b[38;5;241;43m.\u001b[39;49m\u001b[43m_validate_and_prepare_add_request\u001b[49m\u001b[43m(\u001b[49m\n\u001b[0;32m     83\u001b[0m \u001b[43m        \u001b[49m\u001b[43mids\u001b[49m\u001b[38;5;241;43m=\u001b[39;49m\u001b[43mids\u001b[49m\u001b[43m,\u001b[49m\n\u001b[0;32m     84\u001b[0m \u001b[43m        \u001b[49m\u001b[43membeddings\u001b[49m\u001b[38;5;241;43m=\u001b[39;49m\u001b[43membeddings\u001b[49m\u001b[43m,\u001b[49m\n\u001b[0;32m     85\u001b[0m \u001b[43m        \u001b[49m\u001b[43mmetadatas\u001b[49m\u001b[38;5;241;43m=\u001b[39;49m\u001b[43mmetadatas\u001b[49m\u001b[43m,\u001b[49m\n\u001b[0;32m     86\u001b[0m \u001b[43m        \u001b[49m\u001b[43mdocuments\u001b[49m\u001b[38;5;241;43m=\u001b[39;49m\u001b[43mdocuments\u001b[49m\u001b[43m,\u001b[49m\n\u001b[0;32m     87\u001b[0m \u001b[43m        \u001b[49m\u001b[43mimages\u001b[49m\u001b[38;5;241;43m=\u001b[39;49m\u001b[43mimages\u001b[49m\u001b[43m,\u001b[49m\n\u001b[0;32m     88\u001b[0m \u001b[43m        \u001b[49m\u001b[43muris\u001b[49m\u001b[38;5;241;43m=\u001b[39;49m\u001b[43muris\u001b[49m\u001b[43m,\u001b[49m\n\u001b[0;32m     89\u001b[0m \u001b[43m    \u001b[49m\u001b[43m)\u001b[49m\n\u001b[0;32m     91\u001b[0m     \u001b[38;5;28mself\u001b[39m\u001b[38;5;241m.\u001b[39m_client\u001b[38;5;241m.\u001b[39m_add(\n\u001b[0;32m     92\u001b[0m         collection_id\u001b[38;5;241m=\u001b[39m\u001b[38;5;28mself\u001b[39m\u001b[38;5;241m.\u001b[39mid,\n\u001b[0;32m     93\u001b[0m         ids\u001b[38;5;241m=\u001b[39madd_request[\u001b[38;5;124m\"\u001b[39m\u001b[38;5;124mids\u001b[39m\u001b[38;5;124m\"\u001b[39m],\n\u001b[1;32m   (...)\u001b[0m\n\u001b[0;32m     99\u001b[0m         database\u001b[38;5;241m=\u001b[39m\u001b[38;5;28mself\u001b[39m\u001b[38;5;241m.\u001b[39mdatabase,\n\u001b[0;32m    100\u001b[0m     )\n",
      "File \u001b[1;32mc:\\Users\\jack3\\AppData\\Local\\Programs\\Python\\Python310\\lib\\site-packages\\chromadb\\api\\models\\CollectionCommon.py:93\u001b[0m, in \u001b[0;36mvalidation_context.<locals>.decorator.<locals>.wrapper\u001b[1;34m(self, *args, **kwargs)\u001b[0m\n\u001b[0;32m     91\u001b[0m \u001b[38;5;28;01mexcept\u001b[39;00m \u001b[38;5;167;01mException\u001b[39;00m \u001b[38;5;28;01mas\u001b[39;00m e:\n\u001b[0;32m     92\u001b[0m     msg \u001b[38;5;241m=\u001b[39m \u001b[38;5;124mf\u001b[39m\u001b[38;5;124m\"\u001b[39m\u001b[38;5;132;01m{\u001b[39;00m\u001b[38;5;28mstr\u001b[39m(e)\u001b[38;5;132;01m}\u001b[39;00m\u001b[38;5;124m in \u001b[39m\u001b[38;5;132;01m{\u001b[39;00mname\u001b[38;5;132;01m}\u001b[39;00m\u001b[38;5;124m.\u001b[39m\u001b[38;5;124m\"\u001b[39m\n\u001b[1;32m---> 93\u001b[0m     \u001b[38;5;28;01mraise\u001b[39;00m \u001b[38;5;28mtype\u001b[39m(e)(msg)\u001b[38;5;241m.\u001b[39mwith_traceback(e\u001b[38;5;241m.\u001b[39m__traceback__)\n",
      "File \u001b[1;32mc:\\Users\\jack3\\AppData\\Local\\Programs\\Python\\Python310\\lib\\site-packages\\chromadb\\api\\models\\CollectionCommon.py:90\u001b[0m, in \u001b[0;36mvalidation_context.<locals>.decorator.<locals>.wrapper\u001b[1;34m(self, *args, **kwargs)\u001b[0m\n\u001b[0;32m     87\u001b[0m \u001b[38;5;129m@functools\u001b[39m\u001b[38;5;241m.\u001b[39mwraps(func)\n\u001b[0;32m     88\u001b[0m \u001b[38;5;28;01mdef\u001b[39;00m \u001b[38;5;21mwrapper\u001b[39m(\u001b[38;5;28mself\u001b[39m: Any, \u001b[38;5;241m*\u001b[39margs: Any, \u001b[38;5;241m*\u001b[39m\u001b[38;5;241m*\u001b[39mkwargs: Any) \u001b[38;5;241m-\u001b[39m\u001b[38;5;241m>\u001b[39m T:\n\u001b[0;32m     89\u001b[0m     \u001b[38;5;28;01mtry\u001b[39;00m:\n\u001b[1;32m---> 90\u001b[0m         \u001b[38;5;28;01mreturn\u001b[39;00m func(\u001b[38;5;28mself\u001b[39m, \u001b[38;5;241m*\u001b[39margs, \u001b[38;5;241m*\u001b[39m\u001b[38;5;241m*\u001b[39mkwargs)\n\u001b[0;32m     91\u001b[0m     \u001b[38;5;28;01mexcept\u001b[39;00m \u001b[38;5;167;01mException\u001b[39;00m \u001b[38;5;28;01mas\u001b[39;00m e:\n\u001b[0;32m     92\u001b[0m         msg \u001b[38;5;241m=\u001b[39m \u001b[38;5;124mf\u001b[39m\u001b[38;5;124m\"\u001b[39m\u001b[38;5;132;01m{\u001b[39;00m\u001b[38;5;28mstr\u001b[39m(e)\u001b[38;5;132;01m}\u001b[39;00m\u001b[38;5;124m in \u001b[39m\u001b[38;5;132;01m{\u001b[39;00mname\u001b[38;5;132;01m}\u001b[39;00m\u001b[38;5;124m.\u001b[39m\u001b[38;5;124m\"\u001b[39m\n",
      "File \u001b[1;32mc:\\Users\\jack3\\AppData\\Local\\Programs\\Python\\Python310\\lib\\site-packages\\chromadb\\api\\models\\CollectionCommon.py:207\u001b[0m, in \u001b[0;36mCollectionCommon._validate_and_prepare_add_request\u001b[1;34m(self, ids, embeddings, metadatas, documents, images, uris)\u001b[0m\n\u001b[0;32m    197\u001b[0m add_records \u001b[38;5;241m=\u001b[39m normalize_insert_record_set(\n\u001b[0;32m    198\u001b[0m     ids\u001b[38;5;241m=\u001b[39mids,\n\u001b[0;32m    199\u001b[0m     embeddings\u001b[38;5;241m=\u001b[39membeddings,\n\u001b[1;32m   (...)\u001b[0m\n\u001b[0;32m    203\u001b[0m     uris\u001b[38;5;241m=\u001b[39muris,\n\u001b[0;32m    204\u001b[0m )\n\u001b[0;32m    206\u001b[0m \u001b[38;5;66;03m# Validate\u001b[39;00m\n\u001b[1;32m--> 207\u001b[0m \u001b[43mvalidate_insert_record_set\u001b[49m\u001b[43m(\u001b[49m\u001b[43mrecord_set\u001b[49m\u001b[38;5;241;43m=\u001b[39;49m\u001b[43madd_records\u001b[49m\u001b[43m)\u001b[49m\n\u001b[0;32m    208\u001b[0m validate_record_set_contains_any(record_set\u001b[38;5;241m=\u001b[39madd_records, contains_any\u001b[38;5;241m=\u001b[39m{\u001b[38;5;124m\"\u001b[39m\u001b[38;5;124mids\u001b[39m\u001b[38;5;124m\"\u001b[39m})\n\u001b[0;32m    210\u001b[0m \u001b[38;5;66;03m# Prepare\u001b[39;00m\n",
      "File \u001b[1;32mc:\\Users\\jack3\\AppData\\Local\\Programs\\Python\\Python310\\lib\\site-packages\\chromadb\\api\\types.py:230\u001b[0m, in \u001b[0;36mvalidate_insert_record_set\u001b[1;34m(record_set)\u001b[0m\n\u001b[0;32m    228\u001b[0m validate_ids(record_set[\u001b[38;5;124m\"\u001b[39m\u001b[38;5;124mids\u001b[39m\u001b[38;5;124m\"\u001b[39m])\n\u001b[0;32m    229\u001b[0m \u001b[38;5;28;01mif\u001b[39;00m record_set[\u001b[38;5;124m\"\u001b[39m\u001b[38;5;124mmetadatas\u001b[39m\u001b[38;5;124m\"\u001b[39m] \u001b[38;5;129;01mis\u001b[39;00m \u001b[38;5;129;01mnot\u001b[39;00m \u001b[38;5;28;01mNone\u001b[39;00m:\n\u001b[1;32m--> 230\u001b[0m     \u001b[43mvalidate_metadatas\u001b[49m\u001b[43m(\u001b[49m\u001b[43mrecord_set\u001b[49m\u001b[43m[\u001b[49m\u001b[38;5;124;43m\"\u001b[39;49m\u001b[38;5;124;43mmetadatas\u001b[39;49m\u001b[38;5;124;43m\"\u001b[39;49m\u001b[43m]\u001b[49m\u001b[43m)\u001b[49m\n",
      "File \u001b[1;32mc:\\Users\\jack3\\AppData\\Local\\Programs\\Python\\Python310\\lib\\site-packages\\chromadb\\api\\types.py:592\u001b[0m, in \u001b[0;36mvalidate_metadatas\u001b[1;34m(metadatas)\u001b[0m\n\u001b[0;32m    590\u001b[0m     \u001b[38;5;28;01mraise\u001b[39;00m \u001b[38;5;167;01mValueError\u001b[39;00m(\u001b[38;5;124mf\u001b[39m\u001b[38;5;124m\"\u001b[39m\u001b[38;5;124mExpected metadatas to be a list, got \u001b[39m\u001b[38;5;132;01m{\u001b[39;00mmetadatas\u001b[38;5;132;01m}\u001b[39;00m\u001b[38;5;124m\"\u001b[39m)\n\u001b[0;32m    591\u001b[0m \u001b[38;5;28;01mfor\u001b[39;00m metadata \u001b[38;5;129;01min\u001b[39;00m metadatas:\n\u001b[1;32m--> 592\u001b[0m     \u001b[43mvalidate_metadata\u001b[49m\u001b[43m(\u001b[49m\u001b[43mmetadata\u001b[49m\u001b[43m)\u001b[49m\n\u001b[0;32m    593\u001b[0m \u001b[38;5;28;01mreturn\u001b[39;00m metadatas\n",
      "File \u001b[1;32mc:\\Users\\jack3\\AppData\\Local\\Programs\\Python\\Python310\\lib\\site-packages\\chromadb\\api\\types.py:538\u001b[0m, in \u001b[0;36mvalidate_metadata\u001b[1;34m(metadata)\u001b[0m\n\u001b[0;32m    536\u001b[0m \u001b[38;5;250m\u001b[39m\u001b[38;5;124;03m\"\"\"Validates metadata to ensure it is a dictionary of strings to strings, ints, floats or bools\"\"\"\u001b[39;00m\n\u001b[0;32m    537\u001b[0m \u001b[38;5;28;01mif\u001b[39;00m \u001b[38;5;129;01mnot\u001b[39;00m \u001b[38;5;28misinstance\u001b[39m(metadata, \u001b[38;5;28mdict\u001b[39m) \u001b[38;5;129;01mand\u001b[39;00m metadata \u001b[38;5;129;01mis\u001b[39;00m \u001b[38;5;129;01mnot\u001b[39;00m \u001b[38;5;28;01mNone\u001b[39;00m:\n\u001b[1;32m--> 538\u001b[0m     \u001b[38;5;28;01mraise\u001b[39;00m \u001b[38;5;167;01mValueError\u001b[39;00m(\n\u001b[0;32m    539\u001b[0m         \u001b[38;5;124mf\u001b[39m\u001b[38;5;124m\"\u001b[39m\u001b[38;5;124mExpected metadata to be a dict or None, got \u001b[39m\u001b[38;5;132;01m{\u001b[39;00m\u001b[38;5;28mtype\u001b[39m(metadata)\u001b[38;5;241m.\u001b[39m\u001b[38;5;18m__name__\u001b[39m\u001b[38;5;132;01m}\u001b[39;00m\u001b[38;5;124m as metadata\u001b[39m\u001b[38;5;124m\"\u001b[39m\n\u001b[0;32m    540\u001b[0m     )\n\u001b[0;32m    541\u001b[0m \u001b[38;5;28;01mif\u001b[39;00m metadata \u001b[38;5;129;01mis\u001b[39;00m \u001b[38;5;28;01mNone\u001b[39;00m:\n\u001b[0;32m    542\u001b[0m     \u001b[38;5;28;01mreturn\u001b[39;00m metadata\n",
      "\u001b[1;31mValueError\u001b[0m: Expected metadata to be a dict or None, got str as metadata in add."
     ]
    }
   ],
   "source": [
    "#add data to collection\n",
    "collection.add(\n",
    "    documents = annotations,\n",
    "    ids = ids\n",
    ")"
   ]
  },
  {
   "cell_type": "markdown",
   "id": "c83399cf",
   "metadata": {},
   "source": [
    "## Analyze Input Data"
   ]
  },
  {
   "cell_type": "code",
   "execution_count": null,
   "id": "7e6c52e4",
   "metadata": {},
   "outputs": [],
   "source": [
    "input_data = #data inserted by user\n",
    "\n",
    "# what are the variables associated with this data?\n",
    "prompt_model(\"What are the variables associated with this dataset? Return them as a python dictionary, in the format of 'variable_name: data_type'. Do not return any dialogue besides the python dictionary.\")\n",
    "\n",
    "#generate summary statistics\n",
    "prompt_model(f\"using {input_data}, generate me summary statistics of each variable according to these {standards}\")\n",
    "\n",
    "# Create Interesting data questions based on the variables + summary statistics\n",
    "prompt_model(f\"using this process for creating data questions, create an interesting data question based on the variable types and summary statistics\")\n",
    "\n",
    "# potential idea: ask user to for manual input of data question\n",
    "# Provide option for the model to select a data question on its own\n",
    "\n",
    "# gather visualization type from data question\n",
    "prompt_model(f\"what is the best visualization class we should use to characterize this problem?\")\n"
   ]
  },
  {
   "cell_type": "markdown",
   "id": "8f920870",
   "metadata": {},
   "source": [
    "## Use VectorDB to query similar examples for few-shot learning"
   ]
  },
  {
   "cell_type": "code",
   "execution_count": null,
   "id": "ff5127bf",
   "metadata": {},
   "outputs": [],
   "source": [
    "results = collection.query(\n",
    "    query_texts= node['query'], # Chroma will embed this for you\n",
    "    n_results=3 # how many results to return\n",
    ")\n"
   ]
  },
  {
   "cell_type": "markdown",
   "id": "91b30541-75ca-4647-86b3-4af98d395c31",
   "metadata": {},
   "source": [
    "## Generate the graph's code based on the collected examples\n"
   ]
  },
  {
   "cell_type": "code",
   "execution_count": 38,
   "id": "7176779e-12a3-4d39-bfc9-91d5f6ae6ba0",
   "metadata": {},
   "outputs": [],
   "source": [
    "from bert_score import BERTScorer\n",
    "\n",
    "scorer = BERTScorer(model_type='bert-base-uncased')"
   ]
  }
 ],
 "metadata": {
  "kernelspec": {
   "display_name": "Python 3",
   "language": "python",
   "name": "python3"
  },
  "language_info": {
   "codemirror_mode": {
    "name": "ipython",
    "version": 3
   },
   "file_extension": ".py",
   "mimetype": "text/x-python",
   "name": "python",
   "nbconvert_exporter": "python",
   "pygments_lexer": "ipython3",
   "version": "3.10.10"
  }
 },
 "nbformat": 4,
 "nbformat_minor": 5
}
