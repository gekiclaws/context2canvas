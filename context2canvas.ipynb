{
 "cells": [
  {
   "cell_type": "markdown",
   "id": "6ed42f10-f71b-4a43-bc09-ca1354f88d20",
   "metadata": {},
   "source": [
    "## Context2Canvas - AI ggplot2 Code Generation\n",
    "\n",
    "Brief Elevator Pitch of our project "
   ]
  },
  {
   "cell_type": "markdown",
   "id": "ffa12a04-3acf-43f0-b984-d99790d4afff",
   "metadata": {},
   "source": [
    "## Setup the functions for prompting"
   ]
  },
  {
   "cell_type": "code",
   "execution_count": 2,
   "id": "f04c17cf-85f5-4920-bea1-db9e480a4e57",
   "metadata": {},
   "outputs": [],
   "source": [
    "from openai import OpenAI\n",
    "client = OpenAI()\n",
    "\n",
    "def prompt_model(prompt):\n",
    "    completion = client.chat.completions.create(\n",
    "        model=\"gpt-4o-mini\",\n",
    "        store=True,\n",
    "        messages=[\n",
    "            {\"role\": \"user\", 'content': prompt}\n",
    "        ]\n",
    "    )\n",
    "    return completion.choices[0].message.content"
   ]
  },
  {
   "cell_type": "markdown",
   "id": "1063fc8f-0d55-499d-a112-2d9752b77821",
   "metadata": {},
   "source": [
    "## Chunk data and generate indices (setting up vector database)\n",
    "\n",
    "User queries will be matched to indexes that best approximate the text chunks used to summarize an answer. For this assignment, you may chunk the text and then prompt the model to generate questions that are answerable by the text. The generated questions can then be used as the \"documents\" stored in the vector database."
   ]
  },
  {
   "cell_type": "code",
   "execution_count": 3,
   "id": "54b74904",
   "metadata": {},
   "outputs": [],
   "source": [
    "#Load the data\n",
    "\n",
    "import json\n",
    "with open('annotations.json', 'r') as f:\n",
    "    data = json.load(f)\n",
    "\n"
   ]
  },
  {
   "cell_type": "code",
   "execution_count": 6,
   "id": "6b60f00b-27e7-41c4-ba3b-89ddb9dc3ef4",
   "metadata": {},
   "outputs": [],
   "source": [
    "#import langchain chunking library\n",
    "from langchain_text_splitters import CharacterTextSplitter\n",
    "\n",
    "#from langchain_text_splitters import RecursiveCharacterTextSplitter \n",
    "#we can use better parsing techniques in a future update\n"
   ]
  },
  {
   "cell_type": "code",
   "execution_count": 7,
   "id": "90f66807",
   "metadata": {},
   "outputs": [],
   "source": [
    "#set up text splitter\n",
    "text_splitter = CharacterTextSplitter(\n",
    "    separator=\"\\n\",\n",
    "    chunk_size=2500,\n",
    "    chunk_overlap=100,\n",
    "    length_function=len,\n",
    "    is_separator_regex=False,\n",
    ")\n"
   ]
  },
  {
   "cell_type": "code",
   "execution_count": 4,
   "id": "d8304580",
   "metadata": {},
   "outputs": [
    {
     "name": "stdout",
     "output_type": "stream",
     "text": [
      "True\n"
     ]
    }
   ],
   "source": [
    "#chunk data\n",
    "annotations = [str(record[\"general_figure_info\"]) for record in data]\n",
    "types = [record[\"type\"] for record in data]\n",
    "\n",
    "print(len(annotations) == len(types))"
   ]
  },
  {
   "cell_type": "markdown",
   "id": "2ce91801-86ab-43ae-9ff1-1cd0891e82e5",
   "metadata": {},
   "source": [
    "## Build the vector database\n",
    "\n",
    "When building the vector database, be sure to maintain a mapping between the generated questions and the chunks that can be used later to retrieve the chunks from the most similar indices to the user query provided.\n",
    "\n",
    "You may also add the function to query the vector database that you will use later."
   ]
  },
  {
   "cell_type": "code",
   "execution_count": 5,
   "id": "c65e598a-5463-4237-8de2-74a19981b4af",
   "metadata": {},
   "outputs": [],
   "source": [
    "#setting up the collection\n",
    "import chromadb\n",
    "chroma_client = chromadb.Client()\n",
    "collection = chroma_client.create_collection(name=\"c2c\")\n",
    "\n"
   ]
  },
  {
   "cell_type": "code",
   "execution_count": 6,
   "id": "913aa98e",
   "metadata": {},
   "outputs": [],
   "source": [
    "#add data to collection\n",
    "collection.add(\n",
    "    documents = annotations[:1000], \n",
    "    ids = [str(i) for i in range(len(annotations[:1000]))]\n",
    ")"
   ]
  },
  {
   "cell_type": "markdown",
   "id": "c83399cf",
   "metadata": {},
   "source": [
    "## Analyze Input Data"
   ]
  },
  {
   "cell_type": "code",
   "execution_count": 7,
   "id": "79308151",
   "metadata": {},
   "outputs": [],
   "source": [
    "#collect user input data\n",
    "\n",
    "import pandas as pd\n",
    "\n",
    "#filepath = input(\"insert filepath of the dataset you want to analyze\")\n",
    "df = pd.read_csv(\"pixar_films.csv\")"
   ]
  },
  {
   "cell_type": "code",
   "execution_count": 9,
   "id": "7e6c52e4",
   "metadata": {},
   "outputs": [
    {
     "name": "stdout",
     "output_type": "stream",
     "text": [
      "line-plot\n"
     ]
    }
   ],
   "source": [
    "# what are the column names associated with this dataset?\n",
    "columns = prompt_model(f\"What are the variables associated with this dataset: {df}? Return them as a python dictionary, in the format of 'variable_name: data_type'. Do not return any dialogue besides the python dictionary.\")\n",
    "\n",
    "#generate summary statistics\n",
    "summaryStats = prompt_model(f\"using {df}, generate me summary statistics of each variable according to these {statStandards}. Do not return any dialogue besides the summary statistics.\")\n",
    "\n",
    "# Create Interesting data questions based on the variables + summary statistics\n",
    "question = prompt_model(f\"create an interesting data question based on {columns} and {summaryStats}. Do not return anything besides the data question.\")\n",
    "\n",
    "# gather visualization type from data question\n",
    "vizType = prompt_model(f\"what is the best visualization class we should use to characterize this problem, given {question}, {columns}, and {summaryStats}? Do not return anything besides the visualization type. Only return a type listed in {supportedClasses}\")\n",
    "print(vizType)\n",
    "\n"
   ]
  },
  {
   "cell_type": "markdown",
   "id": "8f920870",
   "metadata": {},
   "source": [
    "## Use VectorDB to query similar examples for few-shot learning"
   ]
  },
  {
   "cell_type": "code",
   "execution_count": 11,
   "id": "04ea787a",
   "metadata": {},
   "outputs": [
    {
     "data": {
      "text/plain": [
       "str"
      ]
     },
     "execution_count": 11,
     "metadata": {},
     "output_type": "execute_result"
    }
   ],
   "source": [
    "type(question)"
   ]
  },
  {
   "cell_type": "code",
   "execution_count": 13,
   "id": "ff5127bf",
   "metadata": {},
   "outputs": [
    {
     "name": "stdout",
     "output_type": "stream",
     "text": [
      "{'ids': [['600', '899', '117']], 'embeddings': None, 'documents': [[\"{'title': {'text': 'title', 'bbox': {'y': 9, 'x': 101.43156250000001, 'w': 50.234375, 'h': 16}}, 'x_axis': {'minor_ticks': {'values': [-1, 0, 1, 2, 3, 4, 5, 6, 7, 8, 9, 10, 11, 12, 13, 14, 15, 16, 17, 18, 19, 20, 21, 22, 23, 24, 25, 26, 27, 28, 29, 30, 31, 32, 33, 34, 35, -1, 0, 1, 2, 3, 4, 5, 6, 7, 8, 9, 10, 11, 12, 13, 14, 15, 16, 17, 18, 19, 20, 21, 22, 23, 24, 25, 26, 27, 28, 29, 30, 31, 32, 33, 34, 35], 'bboxes': [{'y': 350, 'x': 108, 'w': 4, 'h': 4}, {'y': 350, 'x': 120, 'w': 4, 'h': 4}, {'y': 350, 'x': 133, 'w': 4, 'h': 4}, {'y': 350, 'x': 145, 'w': 4, 'h': 4}, {'y': 350, 'x': 157, 'w': 4, 'h': 4}, {'y': 350, 'x': 170, 'w': 4, 'h': 4}, {'y': 350, 'x': 182, 'w': 4, 'h': 4}, {'y': 350, 'x': 194, 'w': 4, 'h': 4}, {'y': 350, 'x': 207, 'w': 4, 'h': 4}, {'y': 350, 'x': 219, 'w': 4, 'h': 4}, {'y': 350, 'x': 232, 'w': 4, 'h': 4}, {'y': 350, 'x': 244, 'w': 4, 'h': 4}, {'y': 350, 'x': 256, 'w': 4, 'h': 4}, {'y': 350, 'x': 269, 'w': 4, 'h': 4}, {'y': 350, 'x': 281, 'w': 4, 'h': 4}, {'y': 350, 'x': 294, 'w': 4, 'h': 4}, {'y': 350, 'x': 306, 'w': 4, 'h': 4}, {'y': 350, 'x': 318, 'w': 4, 'h': 4}, {'y': 350, 'x': 331, 'w': 4, 'h': 4}, {'y': 350, 'x': 343, 'w': 4, 'h': 4}, {'y': 350, 'x': 355, 'w': 4, 'h': 4}, {'y': 350, 'x': 368, 'w': 4, 'h': 4}, {'y': 350, 'x': 380, 'w': 4, 'h': 4}, {'y': 350, 'x': 393, 'w': 4, 'h': 4}, {'y': 350, 'x': 405, 'w': 4, 'h': 4}, {'y': 350, 'x': 417, 'w': 4, 'h': 4}, {'y': 350, 'x': 430, 'w': 4, 'h': 4}, {'y': 350, 'x': 442, 'w': 4, 'h': 4}, {'y': 350, 'x': 455, 'w': 4, 'h': 4}, {'y': 350, 'x': 467, 'w': 4, 'h': 4}, {'y': 350, 'x': 479, 'w': 4, 'h': 4}, {'y': 350, 'x': 492, 'w': 4, 'h': 4}, {'y': 350, 'x': 504, 'w': 4, 'h': 4}, {'y': 350, 'x': 516, 'w': 4, 'h': 4}, {'y': 350, 'x': 529, 'w': 4, 'h': 4}, {'y': 350, 'x': 541, 'w': 4, 'h': 4}, {'y': 350, 'x': 554, 'w': 4, 'h': 4}, {'y': 350, 'x': 108, 'w': 4, 'h': 4}, {'y': 350, 'x': 120, 'w': 4, 'h': 4}, {'y': 350, 'x': 133, 'w': 4, 'h': 4}, {'y': 350, 'x': 145, 'w': 4, 'h': 4}, {'y': 350, 'x': 157, 'w': 4, 'h': 4}, {'y': 350, 'x': 170, 'w': 4, 'h': 4}, {'y': 350, 'x': 182, 'w': 4, 'h': 4}, {'y': 350, 'x': 194, 'w': 4, 'h': 4}, {'y': 350, 'x': 207, 'w': 4, 'h': 4}, {'y': 350, 'x': 219, 'w': 4, 'h': 4}, {'y': 350, 'x': 232, 'w': 4, 'h': 4}, {'y': 350, 'x': 244, 'w': 4, 'h': 4}, {'y': 350, 'x': 256, 'w': 4, 'h': 4}, {'y': 350, 'x': 269, 'w': 4, 'h': 4}, {'y': 350, 'x': 281, 'w': 4, 'h': 4}, {'y': 350, 'x': 294, 'w': 4, 'h': 4}, {'y': 350, 'x': 306, 'w': 4, 'h': 4}, {'y': 350, 'x': 318, 'w': 4, 'h': 4}, {'y': 350, 'x': 331, 'w': 4, 'h': 4}, {'y': 350, 'x': 343, 'w': 4, 'h': 4}, {'y': 350, 'x': 355, 'w': 4, 'h': 4}, {'y': 350, 'x': 368, 'w': 4, 'h': 4}, {'y': 350, 'x': 380, 'w': 4, 'h': 4}, {'y': 350, 'x': 393, 'w': 4, 'h': 4}, {'y': 350, 'x': 405, 'w': 4, 'h': 4}, {'y': 350, 'x': 417, 'w': 4, 'h': 4}, {'y': 350, 'x': 430, 'w': 4, 'h': 4}, {'y': 350, 'x': 442, 'w': 4, 'h': 4}, {'y': 350, 'x': 455, 'w': 4, 'h': 4}, {'y': 350, 'x': 467, 'w': 4, 'h': 4}, {'y': 350, 'x': 479, 'w': 4, 'h': 4}, {'y': 350, 'x': 492, 'w': 4, 'h': 4}, {'y': 350, 'x': 504, 'w': 4, 'h': 4}, {'y': 350, 'x': 516, 'w': 4, 'h': 4}, {'y': 350, 'x': 529, 'w': 4, 'h': 4}, {'y': 350, 'x': 541, 'w': 4, 'h': 4}, {'y': 350, 'x': 554, 'w': 4, 'h': 4}]}, 'major_labels': {'values': ['0', '5', '10', '15', '20', '25', '30', '35', '0', '5', '10', '15', '20', '25', '30', '35'], 'bboxes': [{'y': 361, 'x': 119, 'w': 6.984375, 'h': 14}, {'y': 361, 'x': 181, 'w': 6.984375, 'h': 14}, {'y': 361, 'x': 239, 'w': 13.96875, 'h': 14}, {'y': 361, 'x': 301, 'w': 13.96875, 'h': 14}, {'y': 361, 'x': 363, 'w': 13.96875, 'h': 14}, {'y': 361, 'x': 425, 'w': 13.96875, 'h': 14}, {'y': 361, 'x': 487, 'w': 13.96875, 'h': 14}, {'y': 361, 'x': 549, 'w': 13.96875, 'h': 14}, {'y': 361, 'x': 119, 'w': 6.984375, 'h': 14}, {'y': 361, 'x': 181, 'w': 6.984375, 'h': 14}, {'y': 361, 'x': 239, 'w': 13.96875, 'h': 14}, {'y': 361, 'x': 301, 'w': 13.96875, 'h': 14}, {'y': 361, 'x': 363, 'w': 13.96875, 'h': 14}, {'y': 361, 'x': 425, 'w': 13.96875, 'h': 14}, {'y': 361, 'x': 487, 'w': 13.96875, 'h': 14}, {'y': 361, 'x': 549, 'w': 13.96875, 'h': 14}]}, 'major_ticks': {'values': [0, 5, 10, 15, 20, 25, 30, 35, 0, 5, 10, 15, 20, 25, 30, 35], 'bboxes': [{'y': 348, 'x': 118, 'w': 8, 'h': 8}, {'y': 348, 'x': 180, 'w': 8, 'h': 8}, {'y': 348, 'x': 242, 'w': 8, 'h': 8}, {'y': 348, 'x': 304, 'w': 8, 'h': 8}, {'y': 348, 'x': 366, 'w': 8, 'h': 8}, {'y': 348, 'x': 428, 'w': 8, 'h': 8}, {'y': 348, 'x': 490, 'w': 8, 'h': 8}, {'y': 348, 'x': 552, 'w': 8, 'h': 8}, {'y': 348, 'x': 118, 'w': 8, 'h': 8}, {'y': 348, 'x': 180, 'w': 8, 'h': 8}, {'y': 348, 'x': 242, 'w': 8, 'h': 8}, {'y': 348, 'x': 304, 'w': 8, 'h': 8}, {'y': 348, 'x': 366, 'w': 8, 'h': 8}, {'y': 348, 'x': 428, 'w': 8, 'h': 8}, {'y': 348, 'x': 490, 'w': 8, 'h': 8}, {'y': 348, 'x': 552, 'w': 8, 'h': 8}]}, 'rule': {'bbox': {'y': 348, 'h': 4, 'w': 457, 'x': 101}}, 'label': {'text': 'xaxis_label', 'bbox': {'y': 381.27, 'x': 294, 'w': 71.78125, 'h': 16}}}, 'figure_info': {'bbox': {'bbox': {'y': 0, 'x': 0, 'w': 563, 'h': 400}}}, 'y_axis': {'minor_ticks': {'values': [], 'bboxes': []}, 'major_labels': {'values': ['Sienna', 'Yellow', 'Cadet Blue', 'Indian Red', 'Dark Cyan', 'Hot Pink', 'Dark Gray', 'Sienna', 'Yellow', 'Cadet Blue', 'Indian Red', 'Dark Cyan', 'Hot Pink', 'Dark Gray'], 'bboxes': [{'y': 320, 'x': 52, 'w': 38.25, 'h': 14}, {'y': 275, 'x': 54, 'w': 35.84375, 'h': 14}, {'y': 229, 'x': 28, 'w': 61.546875, 'h': 14}, {'y': 184, 'x': 29, 'w': 60.890625, 'h': 14}, {'y': 138, 'x': 31, 'w': 58.984375, 'h': 14}, {'y': 92, 'x': 41, 'w': 48.71875, 'h': 14}, {'y': 47, 'x': 32, 'w': 57.53125, 'h': 14}, {'y': 320, 'x': 52, 'w': 38.25, 'h': 14}, {'y': 275, 'x': 54, 'w': 35.84375, 'h': 14}, {'y': 229, 'x': 28, 'w': 61.546875, 'h': 14}, {'y': 184, 'x': 29, 'w': 60.890625, 'h': 14}, {'y': 138, 'x': 31, 'w': 58.984375, 'h': 14}, {'y': 92, 'x': 41, 'w': 48.71875, 'h': 14}, {'y': 47, 'x': 32, 'w': 57.53125, 'h': 14}]}, 'major_ticks': {'values': ['Sienna', 'Yellow', 'Cadet Blue', 'Indian Red', 'Dark Cyan', 'Hot Pink', 'Dark Gray', 'Sienna', 'Yellow', 'Cadet Blue', 'Indian Red', 'Dark Cyan', 'Hot Pink', 'Dark Gray'], 'bboxes': [{'y': 323, 'x': 95, 'w': 8, 'h': 8}, {'y': 278, 'x': 95, 'w': 8, 'h': 8}, {'y': 232, 'x': 95, 'w': 8, 'h': 8}, {'y': 187, 'x': 95, 'w': 8, 'h': 8}, {'y': 141, 'x': 95, 'w': 8, 'h': 8}, {'y': 95, 'x': 95, 'w': 8, 'h': 8}, {'y': 50, 'x': 95, 'w': 8, 'h': 8}, {'y': 323, 'x': 95, 'w': 8, 'h': 8}, {'y': 278, 'x': 95, 'w': 8, 'h': 8}, {'y': 232, 'x': 95, 'w': 8, 'h': 8}, {'y': 187, 'x': 95, 'w': 8, 'h': 8}, {'y': 141, 'x': 95, 'w': 8, 'h': 8}, {'y': 95, 'x': 95, 'w': 8, 'h': 8}, {'y': 50, 'x': 95, 'w': 8, 'h': 8}]}, 'rule': {'bbox': {'y': 31, 'x': 99, 'w': 4, 'h': 319}}, 'label': {'text': 'yaxis_label', 'bbox': {'y': 155, 'x': 6, 'w': 16, 'h': 71.796875}}}, 'plot_info': {'bbox': {'y': 31, 'x': 99, 'w': 459, 'h': 321}}}\", \"{'title': {'text': 'title', 'bbox': {'y': 9, 'x': 110.6096875, 'w': 50.234375, 'h': 16}}, 'x_axis': {'minor_ticks': {'values': [-1, 0, 1, 2, 3, 4, 5, 6, 7, 8, 9, 10, 11, 12, 13, 14, 15, 16, 17, 18, 19, 20, 21, 22, 23, 24, 25, 26, 27, 28, 29, 30, 31, 32, 33, 34, 35, 36, -1, 0, 1, 2, 3, 4, 5, 6, 7, 8, 9, 10, 11, 12, 13, 14, 15, 16, 17, 18, 19, 20, 21, 22, 23, 24, 25, 26, 27, 28, 29, 30, 31, 32, 33, 34, 35, 36], 'bboxes': [{'y': 350, 'x': 116, 'w': 4, 'h': 4}, {'y': 350, 'x': 126, 'w': 4, 'h': 4}, {'y': 350, 'x': 136, 'w': 4, 'h': 4}, {'y': 350, 'x': 145, 'w': 4, 'h': 4}, {'y': 350, 'x': 155, 'w': 4, 'h': 4}, {'y': 350, 'x': 165, 'w': 4, 'h': 4}, {'y': 350, 'x': 175, 'w': 4, 'h': 4}, {'y': 350, 'x': 184, 'w': 4, 'h': 4}, {'y': 350, 'x': 194, 'w': 4, 'h': 4}, {'y': 350, 'x': 204, 'w': 4, 'h': 4}, {'y': 350, 'x': 214, 'w': 4, 'h': 4}, {'y': 350, 'x': 223, 'w': 4, 'h': 4}, {'y': 350, 'x': 233, 'w': 4, 'h': 4}, {'y': 350, 'x': 243, 'w': 4, 'h': 4}, {'y': 350, 'x': 253, 'w': 4, 'h': 4}, {'y': 350, 'x': 263, 'w': 4, 'h': 4}, {'y': 350, 'x': 272, 'w': 4, 'h': 4}, {'y': 350, 'x': 282, 'w': 4, 'h': 4}, {'y': 350, 'x': 292, 'w': 4, 'h': 4}, {'y': 350, 'x': 302, 'w': 4, 'h': 4}, {'y': 350, 'x': 311, 'w': 4, 'h': 4}, {'y': 350, 'x': 321, 'w': 4, 'h': 4}, {'y': 350, 'x': 331, 'w': 4, 'h': 4}, {'y': 350, 'x': 341, 'w': 4, 'h': 4}, {'y': 350, 'x': 350, 'w': 4, 'h': 4}, {'y': 350, 'x': 360, 'w': 4, 'h': 4}, {'y': 350, 'x': 370, 'w': 4, 'h': 4}, {'y': 350, 'x': 380, 'w': 4, 'h': 4}, {'y': 350, 'x': 389, 'w': 4, 'h': 4}, {'y': 350, 'x': 399, 'w': 4, 'h': 4}, {'y': 350, 'x': 409, 'w': 4, 'h': 4}, {'y': 350, 'x': 419, 'w': 4, 'h': 4}, {'y': 350, 'x': 429, 'w': 4, 'h': 4}, {'y': 350, 'x': 438, 'w': 4, 'h': 4}, {'y': 350, 'x': 448, 'w': 4, 'h': 4}, {'y': 350, 'x': 458, 'w': 4, 'h': 4}, {'y': 350, 'x': 468, 'w': 4, 'h': 4}, {'y': 350, 'x': 477, 'w': 4, 'h': 4}, {'y': 350, 'x': 116, 'w': 4, 'h': 4}, {'y': 350, 'x': 126, 'w': 4, 'h': 4}, {'y': 350, 'x': 136, 'w': 4, 'h': 4}, {'y': 350, 'x': 145, 'w': 4, 'h': 4}, {'y': 350, 'x': 155, 'w': 4, 'h': 4}, {'y': 350, 'x': 165, 'w': 4, 'h': 4}, {'y': 350, 'x': 175, 'w': 4, 'h': 4}, {'y': 350, 'x': 184, 'w': 4, 'h': 4}, {'y': 350, 'x': 194, 'w': 4, 'h': 4}, {'y': 350, 'x': 204, 'w': 4, 'h': 4}, {'y': 350, 'x': 214, 'w': 4, 'h': 4}, {'y': 350, 'x': 223, 'w': 4, 'h': 4}, {'y': 350, 'x': 233, 'w': 4, 'h': 4}, {'y': 350, 'x': 243, 'w': 4, 'h': 4}, {'y': 350, 'x': 253, 'w': 4, 'h': 4}, {'y': 350, 'x': 263, 'w': 4, 'h': 4}, {'y': 350, 'x': 272, 'w': 4, 'h': 4}, {'y': 350, 'x': 282, 'w': 4, 'h': 4}, {'y': 350, 'x': 292, 'w': 4, 'h': 4}, {'y': 350, 'x': 302, 'w': 4, 'h': 4}, {'y': 350, 'x': 311, 'w': 4, 'h': 4}, {'y': 350, 'x': 321, 'w': 4, 'h': 4}, {'y': 350, 'x': 331, 'w': 4, 'h': 4}, {'y': 350, 'x': 341, 'w': 4, 'h': 4}, {'y': 350, 'x': 350, 'w': 4, 'h': 4}, {'y': 350, 'x': 360, 'w': 4, 'h': 4}, {'y': 350, 'x': 370, 'w': 4, 'h': 4}, {'y': 350, 'x': 380, 'w': 4, 'h': 4}, {'y': 350, 'x': 389, 'w': 4, 'h': 4}, {'y': 350, 'x': 399, 'w': 4, 'h': 4}, {'y': 350, 'x': 409, 'w': 4, 'h': 4}, {'y': 350, 'x': 419, 'w': 4, 'h': 4}, {'y': 350, 'x': 429, 'w': 4, 'h': 4}, {'y': 350, 'x': 438, 'w': 4, 'h': 4}, {'y': 350, 'x': 448, 'w': 4, 'h': 4}, {'y': 350, 'x': 458, 'w': 4, 'h': 4}, {'y': 350, 'x': 468, 'w': 4, 'h': 4}, {'y': 350, 'x': 477, 'w': 4, 'h': 4}]}, 'major_labels': {'values': ['0', '5', '10', '15', '20', '25', '30', '35', '0', '5', '10', '15', '20', '25', '30', '35'], 'bboxes': [{'y': 361, 'x': 125, 'w': 6.984375, 'h': 14}, {'y': 361, 'x': 174, 'w': 6.984375, 'h': 14}, {'y': 361, 'x': 218, 'w': 13.96875, 'h': 14}, {'y': 361, 'x': 267, 'w': 13.96875, 'h': 14}, {'y': 361, 'x': 316, 'w': 13.96875, 'h': 14}, {'y': 361, 'x': 365, 'w': 13.96875, 'h': 14}, {'y': 361, 'x': 414, 'w': 13.96875, 'h': 14}, {'y': 361, 'x': 463, 'w': 13.96875, 'h': 14}, {'y': 361, 'x': 125, 'w': 6.984375, 'h': 14}, {'y': 361, 'x': 174, 'w': 6.984375, 'h': 14}, {'y': 361, 'x': 218, 'w': 13.96875, 'h': 14}, {'y': 361, 'x': 267, 'w': 13.96875, 'h': 14}, {'y': 361, 'x': 316, 'w': 13.96875, 'h': 14}, {'y': 361, 'x': 365, 'w': 13.96875, 'h': 14}, {'y': 361, 'x': 414, 'w': 13.96875, 'h': 14}, {'y': 361, 'x': 463, 'w': 13.96875, 'h': 14}]}, 'major_ticks': {'values': [0, 5, 10, 15, 20, 25, 30, 35, 0, 5, 10, 15, 20, 25, 30, 35], 'bboxes': [{'y': 348, 'x': 124, 'w': 8, 'h': 8}, {'y': 348, 'x': 173, 'w': 8, 'h': 8}, {'y': 348, 'x': 221, 'w': 8, 'h': 8}, {'y': 348, 'x': 270, 'w': 8, 'h': 8}, {'y': 348, 'x': 319, 'w': 8, 'h': 8}, {'y': 348, 'x': 368, 'w': 8, 'h': 8}, {'y': 348, 'x': 417, 'w': 8, 'h': 8}, {'y': 348, 'x': 466, 'w': 8, 'h': 8}, {'y': 348, 'x': 124, 'w': 8, 'h': 8}, {'y': 348, 'x': 173, 'w': 8, 'h': 8}, {'y': 348, 'x': 221, 'w': 8, 'h': 8}, {'y': 348, 'x': 270, 'w': 8, 'h': 8}, {'y': 348, 'x': 319, 'w': 8, 'h': 8}, {'y': 348, 'x': 368, 'w': 8, 'h': 8}, {'y': 348, 'x': 417, 'w': 8, 'h': 8}, {'y': 348, 'x': 466, 'w': 8, 'h': 8}]}, 'rule': {'bbox': {'y': 348, 'h': 4, 'w': 378, 'x': 111}}, 'label': {'text': 'xaxis_label', 'bbox': {'y': 381.27, 'x': 264, 'w': 71.78125, 'h': 16}}}, 'x_gridlines': {'values': [0, 5, 10, 15, 20, 25, 30, 35], 'bboxes': [{'y': 31, 'x': 126, 'w': 4, 'h': 321}, {'y': 31, 'x': 175, 'w': 4, 'h': 321}, {'y': 31, 'x': 223, 'w': 4, 'h': 321}, {'y': 31, 'x': 272, 'w': 4, 'h': 321}, {'y': 31, 'x': 321, 'w': 4, 'h': 321}, {'y': 31, 'x': 370, 'w': 4, 'h': 321}, {'y': 31, 'x': 419, 'w': 4, 'h': 321}, {'y': 31, 'x': 468, 'w': 4, 'h': 321}]}, 'figure_info': {'bbox': {'bbox': {'y': 0, 'x': 0, 'w': 494, 'h': 400}}}, 'y_gridlines': {'values': [-1.7613501129187945, -1.7613501129187945, -1.7613501129187945, -1.7613501129187945, -1.7613501129187945, -1.7613501129187945, -1.7613501129187945, -1.7613501129187945, -1.7613501129187945, -1.7613501129187945], 'bboxes': [{'y': 332, 'x': 111, 'w': 378, 'h': 4}, {'y': 300, 'x': 111, 'w': 378, 'h': 4}, {'y': 268, 'x': 111, 'w': 378, 'h': 4}, {'y': 237, 'x': 111, 'w': 378, 'h': 4}, {'y': 205, 'x': 111, 'w': 378, 'h': 4}, {'y': 173, 'x': 111, 'w': 378, 'h': 4}, {'y': 141, 'x': 111, 'w': 378, 'h': 4}, {'y': 109, 'x': 111, 'w': 378, 'h': 4}, {'y': 77, 'x': 111, 'w': 378, 'h': 4}, {'y': 45, 'x': 111, 'w': 378, 'h': 4}]}, 'y_axis': {'minor_ticks': {'values': [], 'bboxes': []}, 'major_labels': {'values': ['Chocolate', 'Tan', 'Sienna', 'Teal', 'Mint', 'Dodger Blue', 'Cadet Blue', 'Violet', 'Light Coral', 'Dark Slate', 'Chocolate', 'Tan', 'Sienna', 'Teal', 'Mint', 'Dodger Blue', 'Cadet Blue', 'Violet', 'Light Coral', 'Dark Slate'], 'bboxes': [{'y': 327, 'x': 44, 'w': 55.828125, 'h': 14}, {'y': 295, 'x': 80, 'w': 20.109375, 'h': 14}, {'y': 263, 'x': 62, 'w': 38.25, 'h': 14}, {'y': 232, 'x': 77, 'w': 23.046875, 'h': 14}, {'y': 200, 'x': 74, 'w': 26.25, 'h': 14}, {'y': 168, 'x': 30, 'w': 69.890625, 'h': 14}, {'y': 136, 'x': 38, 'w': 61.546875, 'h': 14}, {'y': 104, 'x': 68, 'w': 32.296875, 'h': 14}, {'y': 72, 'x': 37, 'w': 63.140625, 'h': 14}, {'y': 40, 'x': 41, 'w': 59.25, 'h': 14}, {'y': 327, 'x': 44, 'w': 55.828125, 'h': 14}, {'y': 295, 'x': 80, 'w': 20.109375, 'h': 14}, {'y': 263, 'x': 62, 'w': 38.25, 'h': 14}, {'y': 232, 'x': 77, 'w': 23.046875, 'h': 14}, {'y': 200, 'x': 74, 'w': 26.25, 'h': 14}, {'y': 168, 'x': 30, 'w': 69.890625, 'h': 14}, {'y': 136, 'x': 38, 'w': 61.546875, 'h': 14}, {'y': 104, 'x': 68, 'w': 32.296875, 'h': 14}, {'y': 72, 'x': 37, 'w': 63.140625, 'h': 14}, {'y': 40, 'x': 41, 'w': 59.25, 'h': 14}]}, 'major_ticks': {'values': ['Chocolate', 'Tan', 'Sienna', 'Teal', 'Mint', 'Dodger Blue', 'Cadet Blue', 'Violet', 'Light Coral', 'Dark Slate', 'Chocolate', 'Tan', 'Sienna', 'Teal', 'Mint', 'Dodger Blue', 'Cadet Blue', 'Violet', 'Light Coral', 'Dark Slate'], 'bboxes': [{'y': 330, 'x': 105, 'w': 8, 'h': 8}, {'y': 298, 'x': 105, 'w': 8, 'h': 8}, {'y': 266, 'x': 105, 'w': 8, 'h': 8}, {'y': 235, 'x': 105, 'w': 8, 'h': 8}, {'y': 203, 'x': 105, 'w': 8, 'h': 8}, {'y': 171, 'x': 105, 'w': 8, 'h': 8}, {'y': 139, 'x': 105, 'w': 8, 'h': 8}, {'y': 107, 'x': 105, 'w': 8, 'h': 8}, {'y': 75, 'x': 105, 'w': 8, 'h': 8}, {'y': 43, 'x': 105, 'w': 8, 'h': 8}, {'y': 330, 'x': 105, 'w': 8, 'h': 8}, {'y': 298, 'x': 105, 'w': 8, 'h': 8}, {'y': 266, 'x': 105, 'w': 8, 'h': 8}, {'y': 235, 'x': 105, 'w': 8, 'h': 8}, {'y': 203, 'x': 105, 'w': 8, 'h': 8}, {'y': 171, 'x': 105, 'w': 8, 'h': 8}, {'y': 139, 'x': 105, 'w': 8, 'h': 8}, {'y': 107, 'x': 105, 'w': 8, 'h': 8}, {'y': 75, 'x': 105, 'w': 8, 'h': 8}, {'y': 43, 'x': 105, 'w': 8, 'h': 8}]}, 'rule': {'bbox': {'y': 31, 'x': 109, 'w': 4, 'h': 319}}, 'label': {'text': 'yaxis_label', 'bbox': {'y': 155, 'x': 6, 'w': 16, 'h': 71.796875}}}, 'plot_info': {'bbox': {'y': 31, 'x': 109, 'w': 380, 'h': 321}}}\", \"{'title': {'text': 'title', 'bbox': {'y': 9, 'x': 152.66750000000002, 'w': 50.234375, 'h': 16}}, 'x_axis': {'minor_ticks': {'values': [-1, 0, 1, 2, 3, 4, 5, 6, 7, 8, 9, 10, 11, 12, 13, 14, 15, 16, 17, 18, 19, 20, 21, 22, 23, 24, 25, 26, 27, 28, 29, 30, 31, 32, 33, 34, 35, -1, 0, 1, 2, 3, 4, 5, 6, 7, 8, 9, 10, 11, 12, 13, 14, 15, 16, 17, 18, 19, 20, 21, 22, 23, 24, 25, 26, 27, 28, 29, 30, 31, 32, 33, 34, 35], 'bboxes': [{'y': 350, 'x': 160, 'w': 4, 'h': 4}, {'y': 350, 'x': 174, 'w': 4, 'h': 4}, {'y': 350, 'x': 188, 'w': 4, 'h': 4}, {'y': 350, 'x': 201, 'w': 4, 'h': 4}, {'y': 350, 'x': 215, 'w': 4, 'h': 4}, {'y': 350, 'x': 228, 'w': 4, 'h': 4}, {'y': 350, 'x': 242, 'w': 4, 'h': 4}, {'y': 350, 'x': 256, 'w': 4, 'h': 4}, {'y': 350, 'x': 269, 'w': 4, 'h': 4}, {'y': 350, 'x': 283, 'w': 4, 'h': 4}, {'y': 350, 'x': 297, 'w': 4, 'h': 4}, {'y': 350, 'x': 310, 'w': 4, 'h': 4}, {'y': 350, 'x': 324, 'w': 4, 'h': 4}, {'y': 350, 'x': 338, 'w': 4, 'h': 4}, {'y': 350, 'x': 351, 'w': 4, 'h': 4}, {'y': 350, 'x': 365, 'w': 4, 'h': 4}, {'y': 350, 'x': 379, 'w': 4, 'h': 4}, {'y': 350, 'x': 392, 'w': 4, 'h': 4}, {'y': 350, 'x': 406, 'w': 4, 'h': 4}, {'y': 350, 'x': 419, 'w': 4, 'h': 4}, {'y': 350, 'x': 433, 'w': 4, 'h': 4}, {'y': 350, 'x': 447, 'w': 4, 'h': 4}, {'y': 350, 'x': 460, 'w': 4, 'h': 4}, {'y': 350, 'x': 474, 'w': 4, 'h': 4}, {'y': 350, 'x': 488, 'w': 4, 'h': 4}, {'y': 350, 'x': 501, 'w': 4, 'h': 4}, {'y': 350, 'x': 515, 'w': 4, 'h': 4}, {'y': 350, 'x': 529, 'w': 4, 'h': 4}, {'y': 350, 'x': 542, 'w': 4, 'h': 4}, {'y': 350, 'x': 556, 'w': 4, 'h': 4}, {'y': 350, 'x': 570, 'w': 4, 'h': 4}, {'y': 350, 'x': 583, 'w': 4, 'h': 4}, {'y': 350, 'x': 597, 'w': 4, 'h': 4}, {'y': 350, 'x': 611, 'w': 4, 'h': 4}, {'y': 350, 'x': 624, 'w': 4, 'h': 4}, {'y': 350, 'x': 638, 'w': 4, 'h': 4}, {'y': 350, 'x': 651, 'w': 4, 'h': 4}, {'y': 350, 'x': 160, 'w': 4, 'h': 4}, {'y': 350, 'x': 174, 'w': 4, 'h': 4}, {'y': 350, 'x': 188, 'w': 4, 'h': 4}, {'y': 350, 'x': 201, 'w': 4, 'h': 4}, {'y': 350, 'x': 215, 'w': 4, 'h': 4}, {'y': 350, 'x': 228, 'w': 4, 'h': 4}, {'y': 350, 'x': 242, 'w': 4, 'h': 4}, {'y': 350, 'x': 256, 'w': 4, 'h': 4}, {'y': 350, 'x': 269, 'w': 4, 'h': 4}, {'y': 350, 'x': 283, 'w': 4, 'h': 4}, {'y': 350, 'x': 297, 'w': 4, 'h': 4}, {'y': 350, 'x': 310, 'w': 4, 'h': 4}, {'y': 350, 'x': 324, 'w': 4, 'h': 4}, {'y': 350, 'x': 338, 'w': 4, 'h': 4}, {'y': 350, 'x': 351, 'w': 4, 'h': 4}, {'y': 350, 'x': 365, 'w': 4, 'h': 4}, {'y': 350, 'x': 379, 'w': 4, 'h': 4}, {'y': 350, 'x': 392, 'w': 4, 'h': 4}, {'y': 350, 'x': 406, 'w': 4, 'h': 4}, {'y': 350, 'x': 419, 'w': 4, 'h': 4}, {'y': 350, 'x': 433, 'w': 4, 'h': 4}, {'y': 350, 'x': 447, 'w': 4, 'h': 4}, {'y': 350, 'x': 460, 'w': 4, 'h': 4}, {'y': 350, 'x': 474, 'w': 4, 'h': 4}, {'y': 350, 'x': 488, 'w': 4, 'h': 4}, {'y': 350, 'x': 501, 'w': 4, 'h': 4}, {'y': 350, 'x': 515, 'w': 4, 'h': 4}, {'y': 350, 'x': 529, 'w': 4, 'h': 4}, {'y': 350, 'x': 542, 'w': 4, 'h': 4}, {'y': 350, 'x': 556, 'w': 4, 'h': 4}, {'y': 350, 'x': 570, 'w': 4, 'h': 4}, {'y': 350, 'x': 583, 'w': 4, 'h': 4}, {'y': 350, 'x': 597, 'w': 4, 'h': 4}, {'y': 350, 'x': 611, 'w': 4, 'h': 4}, {'y': 350, 'x': 624, 'w': 4, 'h': 4}, {'y': 350, 'x': 638, 'w': 4, 'h': 4}, {'y': 350, 'x': 651, 'w': 4, 'h': 4}]}, 'major_labels': {'values': ['0', '5', '10', '15', '20', '25', '30', '35', '0', '5', '10', '15', '20', '25', '30', '35'], 'bboxes': [{'y': 361, 'x': 173, 'w': 6.984375, 'h': 14}, {'y': 361, 'x': 241, 'w': 6.984375, 'h': 14}, {'y': 361, 'x': 305, 'w': 13.96875, 'h': 14}, {'y': 361, 'x': 374, 'w': 13.96875, 'h': 14}, {'y': 361, 'x': 442, 'w': 13.96875, 'h': 14}, {'y': 361, 'x': 510, 'w': 13.96875, 'h': 14}, {'y': 361, 'x': 578, 'w': 13.96875, 'h': 14}, {'y': 361, 'x': 646, 'w': 13.96875, 'h': 14}, {'y': 361, 'x': 173, 'w': 6.984375, 'h': 14}, {'y': 361, 'x': 241, 'w': 6.984375, 'h': 14}, {'y': 361, 'x': 305, 'w': 13.96875, 'h': 14}, {'y': 361, 'x': 374, 'w': 13.96875, 'h': 14}, {'y': 361, 'x': 442, 'w': 13.96875, 'h': 14}, {'y': 361, 'x': 510, 'w': 13.96875, 'h': 14}, {'y': 361, 'x': 578, 'w': 13.96875, 'h': 14}, {'y': 361, 'x': 646, 'w': 13.96875, 'h': 14}]}, 'major_ticks': {'values': [0, 5, 10, 15, 20, 25, 30, 35, 0, 5, 10, 15, 20, 25, 30, 35], 'bboxes': [{'y': 348, 'x': 172, 'w': 8, 'h': 8}, {'y': 348, 'x': 240, 'w': 8, 'h': 8}, {'y': 348, 'x': 308, 'w': 8, 'h': 8}, {'y': 348, 'x': 377, 'w': 8, 'h': 8}, {'y': 348, 'x': 445, 'w': 8, 'h': 8}, {'y': 348, 'x': 513, 'w': 8, 'h': 8}, {'y': 348, 'x': 581, 'w': 8, 'h': 8}, {'y': 348, 'x': 649, 'w': 8, 'h': 8}, {'y': 348, 'x': 172, 'w': 8, 'h': 8}, {'y': 348, 'x': 240, 'w': 8, 'h': 8}, {'y': 348, 'x': 308, 'w': 8, 'h': 8}, {'y': 348, 'x': 377, 'w': 8, 'h': 8}, {'y': 348, 'x': 445, 'w': 8, 'h': 8}, {'y': 348, 'x': 513, 'w': 8, 'h': 8}, {'y': 348, 'x': 581, 'w': 8, 'h': 8}, {'y': 348, 'x': 649, 'w': 8, 'h': 8}]}, 'rule': {'bbox': {'y': 348, 'h': 4, 'w': 511, 'x': 153}}, 'label': {'text': 'xaxis_label', 'bbox': {'y': 381.27, 'x': 372, 'w': 71.78125, 'h': 16}}}, 'figure_info': {'bbox': {'bbox': {'y': 0, 'x': 0, 'w': 669, 'h': 400}}}, 'y_axis': {'minor_ticks': {'values': [], 'bboxes': []}, 'major_labels': {'values': ['Web Maroon', 'Medium Periwinkle', 'Web Maroon', 'Medium Periwinkle'], 'bboxes': [{'y': 263, 'x': 71, 'w': 70.765625, 'h': 14}, {'y': 104, 'x': 34, 'w': 108.125, 'h': 14}, {'y': 263, 'x': 71, 'w': 70.765625, 'h': 14}, {'y': 104, 'x': 34, 'w': 108.125, 'h': 14}]}, 'major_ticks': {'values': ['Web Maroon', 'Medium Periwinkle', 'Web Maroon', 'Medium Periwinkle'], 'bboxes': [{'y': 266, 'x': 147, 'w': 8, 'h': 8}, {'y': 107, 'x': 147, 'w': 8, 'h': 8}, {'y': 266, 'x': 147, 'w': 8, 'h': 8}, {'y': 107, 'x': 147, 'w': 8, 'h': 8}]}, 'rule': {'bbox': {'y': 31, 'x': 151, 'w': 4, 'h': 319}}, 'label': {'text': 'yaxis_label', 'bbox': {'y': 155, 'x': 6, 'w': 16, 'h': 71.796875}}}, 'plot_info': {'bbox': {'y': 31, 'x': 151, 'w': 513, 'h': 321}}}\"]], 'uris': None, 'data': None, 'metadatas': [[None, None, None]], 'distances': [[1.9064576625823975, 1.9099541902542114, 1.9117991924285889]], 'included': [<IncludeEnum.distances: 'distances'>, <IncludeEnum.documents: 'documents'>, <IncludeEnum.metadatas: 'metadatas'>]}\n"
     ]
    }
   ],
   "source": [
    "examples = collection.query(\n",
    "    query_texts= [question], # Chroma will embed this for you\n",
    "    n_results=3 # how many results to return\n",
    ")\n",
    "print(examples)"
   ]
  },
  {
   "cell_type": "markdown",
   "id": "91b30541-75ca-4647-86b3-4af98d395c31",
   "metadata": {},
   "source": [
    "## Generate the graph's code based on the collected examples\n"
   ]
  },
  {
   "cell_type": "code",
   "execution_count": null,
   "id": "483d9e72",
   "metadata": {},
   "outputs": [],
   "source": [
    "codeOutput = prompt_model(f\"generate python code for this visualization, given {vizType}, {question}, {columns}, and {summaryStats}\")\n",
    "print(codeOutput)"
   ]
  },
  {
   "cell_type": "code",
   "execution_count": null,
   "id": "5636a904",
   "metadata": {},
   "outputs": [],
   "source": [
    "#python code with vector databse helper hints\n",
    "codeOutput = prompt_model(f\"generate python code for this visualization, given {vizType}, {question}, {columns}, and {summaryStats}. Model your output on the examples given by {examples}\")\n",
    "print(codeOutput)"
   ]
  },
  {
   "cell_type": "markdown",
   "id": "6554f8ce",
   "metadata": {},
   "source": [
    "## Analysis of C2C's Performance"
   ]
  },
  {
   "cell_type": "code",
   "execution_count": null,
   "id": "7176779e-12a3-4d39-bfc9-91d5f6ae6ba0",
   "metadata": {},
   "outputs": [],
   "source": [
    "from bert_score import BERTScorer\n",
    "\n",
    "scorer = BERTScorer(model_type='bert-base-uncased')"
   ]
  }
 ],
 "metadata": {
  "kernelspec": {
   "display_name": "Python 3",
   "language": "python",
   "name": "python3"
  },
  "language_info": {
   "codemirror_mode": {
    "name": "ipython",
    "version": 3
   },
   "file_extension": ".py",
   "mimetype": "text/x-python",
   "name": "python",
   "nbconvert_exporter": "python",
   "pygments_lexer": "ipython3",
   "version": "3.10.10"
  }
 },
 "nbformat": 4,
 "nbformat_minor": 5
}
